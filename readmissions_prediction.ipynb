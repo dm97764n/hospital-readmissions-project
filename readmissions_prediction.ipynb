{
 "cells": [
  {
   "cell_type": "code",
   "execution_count": 1,
   "id": "d5fadb47-5863-4b46-b8ab-cd7743946059",
   "metadata": {},
   "outputs": [
    {
     "name": "stdout",
     "output_type": "stream",
     "text": [
      "   time_in_hospital  num_lab_procedures  num_procedures  num_medications  \\\n",
      "0                14                  41               0               11   \n",
      "1                 2                  30               0               12   \n",
      "2                 5                  66               0               22   \n",
      "3                 3                  63               0                8   \n",
      "4                 5                  40               0                6   \n",
      "\n",
      "   number_outpatient  number_emergency  number_inpatient  number_diagnoses  \\\n",
      "0                  0                 0                 0                 6   \n",
      "1                  0                 0                 1                 9   \n",
      "2                  1                 0                 2                 9   \n",
      "3                  0                 0                 0                 8   \n",
      "4                  0                 0                 1                 9   \n",
      "\n",
      "   race_Caucasian  race_AfricanAmerican  ...  citoglipton_No  insulin_No  \\\n",
      "0            True                 False  ...            True        True   \n",
      "1            True                 False  ...            True       False   \n",
      "2            True                 False  ...            True        True   \n",
      "3            True                 False  ...            True        True   \n",
      "4            True                 False  ...            True        True   \n",
      "\n",
      "   glyburide-metformin_No  glipizide-metformin_No  \\\n",
      "0                    True                    True   \n",
      "1                    True                    True   \n",
      "2                    True                    True   \n",
      "3                    True                    True   \n",
      "4                    True                    True   \n",
      "\n",
      "   glimepiride-pioglitazone_No  metformin-rosiglitazone_No  \\\n",
      "0                         True                        True   \n",
      "1                         True                        True   \n",
      "2                         True                        True   \n",
      "3                         True                        True   \n",
      "4                         True                        True   \n",
      "\n",
      "   metformin-pioglitazone_No  change_No  diabetesMed_Yes  readmitted  \n",
      "0                       True       True             True           0  \n",
      "1                       True      False             True           1  \n",
      "2                       True       True             True           1  \n",
      "3                       True       True             True           1  \n",
      "4                       True       True            False           0  \n",
      "\n",
      "[5 rows x 65 columns]\n",
      "(25000, 65)\n",
      "Index(['time_in_hospital', 'num_lab_procedures', 'num_procedures',\n",
      "       'num_medications', 'number_outpatient', 'number_emergency',\n",
      "       'number_inpatient', 'number_diagnoses', 'race_Caucasian',\n",
      "       'race_AfricanAmerican', 'gender_Female', 'age_[70-80)', 'age_[60-70)',\n",
      "       'age_[50-60)', 'age_[80-90)', 'age_[40-50)', 'payer_code_?',\n",
      "       'payer_code_MC', 'payer_code_HM', 'payer_code_SP', 'payer_code_BC',\n",
      "       'medical_specialty_?', 'medical_specialty_InternalMedicine',\n",
      "       'medical_specialty_Emergency/Trauma',\n",
      "       'medical_specialty_Family/GeneralPractice',\n",
      "       'medical_specialty_Cardiology', 'diag_1_428', 'diag_1_414',\n",
      "       'diag_1_786', 'diag_2_276', 'diag_2_428', 'diag_2_250', 'diag_2_427',\n",
      "       'diag_3_250', 'diag_3_401', 'diag_3_276', 'diag_3_428',\n",
      "       'max_glu_serum_None', 'A1Cresult_None', 'metformin_No',\n",
      "       'repaglinide_No', 'nateglinide_No', 'chlorpropamide_No',\n",
      "       'glimepiride_No', 'acetohexamide_No', 'glipizide_No', 'glyburide_No',\n",
      "       'tolbutamide_No', 'pioglitazone_No', 'rosiglitazone_No', 'acarbose_No',\n",
      "       'miglitol_No', 'troglitazone_No', 'tolazamide_No', 'examide_No',\n",
      "       'citoglipton_No', 'insulin_No', 'glyburide-metformin_No',\n",
      "       'glipizide-metformin_No', 'glimepiride-pioglitazone_No',\n",
      "       'metformin-rosiglitazone_No', 'metformin-pioglitazone_No', 'change_No',\n",
      "       'diabetesMed_Yes', 'readmitted'],\n",
      "      dtype='object')\n",
      "time_in_hospital              int64\n",
      "num_lab_procedures            int64\n",
      "num_procedures                int64\n",
      "num_medications               int64\n",
      "number_outpatient             int64\n",
      "                              ...  \n",
      "metformin-rosiglitazone_No     bool\n",
      "metformin-pioglitazone_No      bool\n",
      "change_No                      bool\n",
      "diabetesMed_Yes                bool\n",
      "readmitted                    int64\n",
      "Length: 65, dtype: object\n",
      "time_in_hospital              0\n",
      "num_lab_procedures            0\n",
      "num_procedures                0\n",
      "num_medications               0\n",
      "number_outpatient             0\n",
      "                             ..\n",
      "metformin-rosiglitazone_No    0\n",
      "metformin-pioglitazone_No     0\n",
      "change_No                     0\n",
      "diabetesMed_Yes               0\n",
      "readmitted                    0\n",
      "Length: 65, dtype: int64\n"
     ]
    }
   ],
   "source": [
    "import pandas as pd\n",
    "df = pd.read_csv(\"readmissions.csv\")  # Adjust path/name\n",
    "print(df.head())       # First 5 rows\n",
    "print(df.shape)        # Rows, columns (e.g., 101766, 50)\n",
    "print(df.columns)      # Full column list\n",
    "print(df.dtypes)       # Types (int64, bool)\n",
    "print(df.isnull().sum())  # Missing values per column"
   ]
  },
  {
   "cell_type": "code",
   "execution_count": 3,
   "id": "e8385404-6a9c-4f58-af7c-fc8b6543913b",
   "metadata": {},
   "outputs": [
    {
     "name": "stdout",
     "output_type": "stream",
     "text": [
      "time_in_hospital              0\n",
      "num_lab_procedures            0\n",
      "num_procedures                0\n",
      "num_medications               0\n",
      "number_outpatient             0\n",
      "                             ..\n",
      "metformin-rosiglitazone_No    0\n",
      "metformin-pioglitazone_No     0\n",
      "change_No                     0\n",
      "diabetesMed_Yes               0\n",
      "readmitted                    0\n",
      "Length: 65, dtype: int64\n"
     ]
    }
   ],
   "source": [
    "print(df.isnull().sum())  # Missing values per column"
   ]
  },
  {
   "cell_type": "code",
   "execution_count": 5,
   "id": "223284ce-8d84-4370-adc6-2da66c0b50e0",
   "metadata": {},
   "outputs": [
    {
     "name": "stdout",
     "output_type": "stream",
     "text": [
      "Rows after removing duplicates: 25000\n"
     ]
    }
   ],
   "source": [
    "df = df.drop_duplicates()\n",
    "print(f\"Rows after removing duplicates: {len(df)}\")"
   ]
  },
  {
   "cell_type": "code",
   "execution_count": 7,
   "id": "8b42ae4a-d1ac-4681-9ba0-297c2cdba799",
   "metadata": {},
   "outputs": [
    {
     "name": "stdout",
     "output_type": "stream",
     "text": [
      "       time_in_hospital  num_medications  num_lab_procedures\n",
      "count      25000.000000     25000.000000         25000.00000\n",
      "mean           4.395640        15.988440            42.96012\n",
      "std            2.991165         8.107743            19.76881\n",
      "min            1.000000         1.000000             1.00000\n",
      "25%            2.000000        10.000000            31.00000\n",
      "50%            4.000000        15.000000            44.00000\n",
      "75%            6.000000        20.000000            57.00000\n",
      "max           14.000000        81.000000           126.00000\n"
     ]
    }
   ],
   "source": [
    "print(df[['time_in_hospital', 'num_medications', 'num_lab_procedures']].describe())"
   ]
  },
  {
   "cell_type": "code",
   "execution_count": 9,
   "id": "e64f9d52-9322-4766-89e5-213984df7f10",
   "metadata": {},
   "outputs": [
    {
     "name": "stdout",
     "output_type": "stream",
     "text": [
      "Rows after outlier removal: 24884\n"
     ]
    }
   ],
   "source": [
    "# Cap num_medications at 50 (reasonable upper limit)\n",
    "df = df[df['num_medications'] <= 50]\n",
    "\n",
    "# Cap num_lab_procedures at 100 (typical hospital limit)\n",
    "df = df[df['num_lab_procedures'] <= 100]\n",
    "\n",
    "print(f\"Rows after outlier removal: {len(df)}\")"
   ]
  },
  {
   "cell_type": "code",
   "execution_count": 11,
   "id": "97562d3b-a5ad-4cf9-94e4-baace20b13d2",
   "metadata": {},
   "outputs": [
    {
     "name": "stdout",
     "output_type": "stream",
     "text": [
      "time_in_hospital              int64\n",
      "num_lab_procedures            int64\n",
      "num_procedures                int64\n",
      "num_medications               int64\n",
      "number_outpatient             int64\n",
      "                              ...  \n",
      "metformin-rosiglitazone_No     bool\n",
      "metformin-pioglitazone_No      bool\n",
      "change_No                      bool\n",
      "diabetesMed_Yes                bool\n",
      "readmitted                    int64\n",
      "Length: 65, dtype: object\n"
     ]
    }
   ],
   "source": [
    "print(df.dtypes)"
   ]
  },
  {
   "cell_type": "code",
   "execution_count": 13,
   "id": "ae7aada9-a290-4a9b-8100-738bb0541dcc",
   "metadata": {},
   "outputs": [
    {
     "name": "stdout",
     "output_type": "stream",
     "text": [
      "time_in_hospital              int64\n",
      "num_lab_procedures            int64\n",
      "num_procedures                int64\n",
      "num_medications               int64\n",
      "number_outpatient             int64\n",
      "                              ...  \n",
      "metformin-rosiglitazone_No     bool\n",
      "metformin-pioglitazone_No      bool\n",
      "change_No                      bool\n",
      "diabetesMed_Yes                bool\n",
      "readmitted                    int64\n",
      "Length: 65, dtype: object\n"
     ]
    }
   ],
   "source": [
    "# Convert boolean columns to bool\n",
    "bool_cols = [col for col in df.columns if col.startswith('race_') or col.endswith('_No') or col.endswith('_Yes')]\n",
    "for col in bool_cols:\n",
    "    df[col] = df[col].astype(bool)\n",
    "print(df.dtypes)  # Verify"
   ]
  },
  {
   "cell_type": "code",
   "execution_count": 15,
   "id": "bd6b3a26-fc06-4f45-afc0-20788925f905",
   "metadata": {},
   "outputs": [
    {
     "name": "stdout",
     "output_type": "stream",
     "text": [
      "Saved cleaned data to cleaned_readmissions.csv\n"
     ]
    }
   ],
   "source": [
    "df.to_csv(\"cleaned_readmissions.csv\", index=False)\n",
    "print(\"Saved cleaned data to cleaned_readmissions.csv\")"
   ]
  },
  {
   "cell_type": "code",
   "execution_count": 17,
   "id": "2a766cad-752e-450e-ba56-34127fa5102b",
   "metadata": {},
   "outputs": [
    {
     "name": "stdout",
     "output_type": "stream",
     "text": [
      "Loaded data into SQLite database: hospital.db\n"
     ]
    }
   ],
   "source": [
    "import sqlite3\n",
    "import pandas as pd\n",
    "\n",
    "# Load cleaned data\n",
    "df = pd.read_csv(\"cleaned_readmissions.csv\")\n",
    "\n",
    "# Connect to SQLite\n",
    "conn = sqlite3.connect(\"hospital.db\")\n",
    "df.to_sql(\"readmissions\", conn, if_exists=\"replace\", index=False)\n",
    "print(\"Loaded data into SQLite database: hospital.db\")"
   ]
  },
  {
   "cell_type": "code",
   "execution_count": 19,
   "id": "d814a900-c08e-4e8d-810e-a0813690e6ed",
   "metadata": {},
   "outputs": [
    {
     "name": "stdout",
     "output_type": "stream",
     "text": [
      "  age_group  avg_stay\n",
      "0     40-50  4.126656\n",
      "1     50-60  4.079432\n",
      "2     60-70  4.329455\n",
      "3     70-80  4.571725\n",
      "4     80-90  4.787394\n",
      "5     Other  3.991103\n"
     ]
    }
   ],
   "source": [
    "query = \"\"\"\n",
    "SELECT \n",
    "    CASE \n",
    "        WHEN \"age_[70-80)\" = 1 THEN '70-80'\n",
    "        WHEN \"age_[60-70)\" = 1 THEN '60-70'\n",
    "        WHEN \"age_[50-60)\" = 1 THEN '50-60'\n",
    "        WHEN \"age_[80-90)\" = 1 THEN '80-90'\n",
    "        WHEN \"age_[40-50)\" = 1 THEN '40-50'\n",
    "        ELSE 'Other'\n",
    "    END AS age_group,\n",
    "    AVG(time_in_hospital) AS avg_stay\n",
    "FROM readmissions\n",
    "GROUP BY age_group\n",
    "\"\"\"\n",
    "result = pd.read_sql(query, conn)\n",
    "print(result)"
   ]
  },
  {
   "cell_type": "code",
   "execution_count": 21,
   "id": "f35d76b3-286e-472b-876e-f2c6982c4b19",
   "metadata": {},
   "outputs": [
    {
     "name": "stdout",
     "output_type": "stream",
     "text": [
      "   readmitted  avg_medications\n",
      "0           0        15.350181\n",
      "1           1        16.366634\n"
     ]
    }
   ],
   "source": [
    "query = \"\"\"\n",
    "SELECT readmitted, AVG(num_medications) AS avg_medications\n",
    "FROM readmissions\n",
    "GROUP BY readmitted\n",
    "\"\"\"\n",
    "result = pd.read_sql(query, conn)\n",
    "print(result)"
   ]
  },
  {
   "cell_type": "code",
   "execution_count": 23,
   "id": "3e38277d-89c8-4d9c-802a-03cc726414be",
   "metadata": {},
   "outputs": [
    {
     "name": "stdout",
     "output_type": "stream",
     "text": [
      "    specialty  avg_stay\n",
      "0  Cardiology  3.815686\n",
      "1   Emergency  4.646356\n",
      "2       Other  4.707038\n"
     ]
    }
   ],
   "source": [
    "query = \"\"\"\n",
    "SELECT \n",
    "    CASE \n",
    "        WHEN \"medical_specialty_Cardiology\" = 1 THEN 'Cardiology'\n",
    "        WHEN \"medical_specialty_Emergency/Trauma\" = 1 THEN 'Emergency'\n",
    "        WHEN \"medical_specialty_Surgery-General\" = 1 THEN 'Surgery'\n",
    "        ELSE 'Other'\n",
    "    END AS specialty,\n",
    "    AVG(time_in_hospital) AS avg_stay\n",
    "FROM readmissions\n",
    "WHERE \"age_[70-80)\" = 1 OR \"age_[80-90)\" = 1\n",
    "GROUP BY specialty\n",
    "\"\"\"\n",
    "result = pd.read_sql(query, conn)\n",
    "print(result)"
   ]
  },
  {
   "cell_type": "code",
   "execution_count": 25,
   "id": "8f70a037-a245-45ce-90e2-7274ff294a22",
   "metadata": {},
   "outputs": [
    {
     "name": "stdout",
     "output_type": "stream",
     "text": [
      "   insulin_usage_pct  metformin_usage_pct\n",
      "0          55.641544            18.081083\n"
     ]
    }
   ],
   "source": [
    "query = \"\"\"\n",
    "SELECT \n",
    "    SUM(CASE WHEN insulin_No = 0 THEN 1 ELSE 0 END) * 100.0 / COUNT(*) AS insulin_usage_pct,\n",
    "    SUM(CASE WHEN metformin_No = 0 THEN 1 ELSE 0 END) * 100.0 / COUNT(*) AS metformin_usage_pct\n",
    "FROM readmissions\n",
    "WHERE readmitted = 1\n",
    "\"\"\"\n",
    "result = pd.read_sql(query, conn)\n",
    "print(result)"
   ]
  },
  {
   "cell_type": "code",
   "execution_count": 27,
   "id": "d7070eda-e3ee-49e8-997d-90329cd7abdf",
   "metadata": {},
   "outputs": [
    {
     "name": "stdout",
     "output_type": "stream",
     "text": [
      "Saved delays_by_age.csv\n"
     ]
    }
   ],
   "source": [
    "query = \"\"\"\n",
    "SELECT \n",
    "    CASE \n",
    "        WHEN \"age_[70-80)\" = 1 THEN '70-80'\n",
    "        WHEN \"age_[60-70)\" = 1 THEN '60-70'\n",
    "        WHEN \"age_[50-60)\" = 1 THEN '50-60'\n",
    "        WHEN \"age_[80-90)\" = 1 THEN '80-90'\n",
    "        WHEN \"age_[40-50)\" = 1 THEN '40-50'\n",
    "        ELSE 'Other'\n",
    "    END AS age_group,\n",
    "    AVG(time_in_hospital) AS avg_stay\n",
    "FROM readmissions\n",
    "GROUP BY age_group\n",
    "\"\"\"\n",
    "result = pd.read_sql(query, conn)\n",
    "result.to_csv(\"delays_by_age.csv\", index=False)\n",
    "print(\"Saved delays_by_age.csv\")"
   ]
  },
  {
   "cell_type": "code",
   "execution_count": 29,
   "id": "1e9e3d1a-2897-44d3-9831-c6bd13fee32d",
   "metadata": {},
   "outputs": [
    {
     "name": "stdout",
     "output_type": "stream",
     "text": [
      "Saved meds_by_readmission.csv\n"
     ]
    }
   ],
   "source": [
    "query = \"\"\"\n",
    "SELECT readmitted, AVG(num_medications) AS avg_medications\n",
    "FROM readmissions\n",
    "GROUP BY readmitted\n",
    "\"\"\"\n",
    "result = pd.read_sql(query, conn)\n",
    "result.to_csv(\"meds_by_readmission.csv\", index=False)\n",
    "print(\"Saved meds_by_readmission.csv\")"
   ]
  },
  {
   "cell_type": "code",
   "execution_count": 31,
   "id": "bd80a8db-b3d7-4da5-b015-c90a2eabd8d1",
   "metadata": {},
   "outputs": [],
   "source": [
    "import pandas as pd\n",
    "df = pd.read_csv(\"cleaned_readmissions.csv\")"
   ]
  },
  {
   "cell_type": "code",
   "execution_count": 33,
   "id": "c3ba33c8-e577-4b0a-a5ce-402cfa5ae032",
   "metadata": {},
   "outputs": [
    {
     "data": {
      "text/html": [
       "<div>\n",
       "<style scoped>\n",
       "    .dataframe tbody tr th:only-of-type {\n",
       "        vertical-align: middle;\n",
       "    }\n",
       "\n",
       "    .dataframe tbody tr th {\n",
       "        vertical-align: top;\n",
       "    }\n",
       "\n",
       "    .dataframe thead th {\n",
       "        text-align: right;\n",
       "    }\n",
       "</style>\n",
       "<table border=\"1\" class=\"dataframe\">\n",
       "  <thead>\n",
       "    <tr style=\"text-align: right;\">\n",
       "      <th></th>\n",
       "      <th>time_in_hospital</th>\n",
       "      <th>num_lab_procedures</th>\n",
       "      <th>num_procedures</th>\n",
       "      <th>num_medications</th>\n",
       "      <th>number_outpatient</th>\n",
       "      <th>number_emergency</th>\n",
       "      <th>number_inpatient</th>\n",
       "      <th>number_diagnoses</th>\n",
       "      <th>race_Caucasian</th>\n",
       "      <th>race_AfricanAmerican</th>\n",
       "      <th>...</th>\n",
       "      <th>citoglipton_No</th>\n",
       "      <th>insulin_No</th>\n",
       "      <th>glyburide-metformin_No</th>\n",
       "      <th>glipizide-metformin_No</th>\n",
       "      <th>glimepiride-pioglitazone_No</th>\n",
       "      <th>metformin-rosiglitazone_No</th>\n",
       "      <th>metformin-pioglitazone_No</th>\n",
       "      <th>change_No</th>\n",
       "      <th>diabetesMed_Yes</th>\n",
       "      <th>readmitted</th>\n",
       "    </tr>\n",
       "  </thead>\n",
       "  <tbody>\n",
       "    <tr>\n",
       "      <th>0</th>\n",
       "      <td>14</td>\n",
       "      <td>41</td>\n",
       "      <td>0</td>\n",
       "      <td>11</td>\n",
       "      <td>0</td>\n",
       "      <td>0</td>\n",
       "      <td>0</td>\n",
       "      <td>6</td>\n",
       "      <td>True</td>\n",
       "      <td>False</td>\n",
       "      <td>...</td>\n",
       "      <td>True</td>\n",
       "      <td>True</td>\n",
       "      <td>True</td>\n",
       "      <td>True</td>\n",
       "      <td>True</td>\n",
       "      <td>True</td>\n",
       "      <td>True</td>\n",
       "      <td>True</td>\n",
       "      <td>True</td>\n",
       "      <td>0</td>\n",
       "    </tr>\n",
       "    <tr>\n",
       "      <th>1</th>\n",
       "      <td>2</td>\n",
       "      <td>30</td>\n",
       "      <td>0</td>\n",
       "      <td>12</td>\n",
       "      <td>0</td>\n",
       "      <td>0</td>\n",
       "      <td>1</td>\n",
       "      <td>9</td>\n",
       "      <td>True</td>\n",
       "      <td>False</td>\n",
       "      <td>...</td>\n",
       "      <td>True</td>\n",
       "      <td>False</td>\n",
       "      <td>True</td>\n",
       "      <td>True</td>\n",
       "      <td>True</td>\n",
       "      <td>True</td>\n",
       "      <td>True</td>\n",
       "      <td>False</td>\n",
       "      <td>True</td>\n",
       "      <td>1</td>\n",
       "    </tr>\n",
       "    <tr>\n",
       "      <th>2</th>\n",
       "      <td>5</td>\n",
       "      <td>66</td>\n",
       "      <td>0</td>\n",
       "      <td>22</td>\n",
       "      <td>1</td>\n",
       "      <td>0</td>\n",
       "      <td>2</td>\n",
       "      <td>9</td>\n",
       "      <td>True</td>\n",
       "      <td>False</td>\n",
       "      <td>...</td>\n",
       "      <td>True</td>\n",
       "      <td>True</td>\n",
       "      <td>True</td>\n",
       "      <td>True</td>\n",
       "      <td>True</td>\n",
       "      <td>True</td>\n",
       "      <td>True</td>\n",
       "      <td>True</td>\n",
       "      <td>True</td>\n",
       "      <td>1</td>\n",
       "    </tr>\n",
       "    <tr>\n",
       "      <th>3</th>\n",
       "      <td>3</td>\n",
       "      <td>63</td>\n",
       "      <td>0</td>\n",
       "      <td>8</td>\n",
       "      <td>0</td>\n",
       "      <td>0</td>\n",
       "      <td>0</td>\n",
       "      <td>8</td>\n",
       "      <td>True</td>\n",
       "      <td>False</td>\n",
       "      <td>...</td>\n",
       "      <td>True</td>\n",
       "      <td>True</td>\n",
       "      <td>True</td>\n",
       "      <td>True</td>\n",
       "      <td>True</td>\n",
       "      <td>True</td>\n",
       "      <td>True</td>\n",
       "      <td>True</td>\n",
       "      <td>True</td>\n",
       "      <td>1</td>\n",
       "    </tr>\n",
       "    <tr>\n",
       "      <th>4</th>\n",
       "      <td>5</td>\n",
       "      <td>40</td>\n",
       "      <td>0</td>\n",
       "      <td>6</td>\n",
       "      <td>0</td>\n",
       "      <td>0</td>\n",
       "      <td>1</td>\n",
       "      <td>9</td>\n",
       "      <td>True</td>\n",
       "      <td>False</td>\n",
       "      <td>...</td>\n",
       "      <td>True</td>\n",
       "      <td>True</td>\n",
       "      <td>True</td>\n",
       "      <td>True</td>\n",
       "      <td>True</td>\n",
       "      <td>True</td>\n",
       "      <td>True</td>\n",
       "      <td>True</td>\n",
       "      <td>False</td>\n",
       "      <td>0</td>\n",
       "    </tr>\n",
       "  </tbody>\n",
       "</table>\n",
       "<p>5 rows × 65 columns</p>\n",
       "</div>"
      ],
      "text/plain": [
       "   time_in_hospital  num_lab_procedures  num_procedures  num_medications  \\\n",
       "0                14                  41               0               11   \n",
       "1                 2                  30               0               12   \n",
       "2                 5                  66               0               22   \n",
       "3                 3                  63               0                8   \n",
       "4                 5                  40               0                6   \n",
       "\n",
       "   number_outpatient  number_emergency  number_inpatient  number_diagnoses  \\\n",
       "0                  0                 0                 0                 6   \n",
       "1                  0                 0                 1                 9   \n",
       "2                  1                 0                 2                 9   \n",
       "3                  0                 0                 0                 8   \n",
       "4                  0                 0                 1                 9   \n",
       "\n",
       "   race_Caucasian  race_AfricanAmerican  ...  citoglipton_No  insulin_No  \\\n",
       "0            True                 False  ...            True        True   \n",
       "1            True                 False  ...            True       False   \n",
       "2            True                 False  ...            True        True   \n",
       "3            True                 False  ...            True        True   \n",
       "4            True                 False  ...            True        True   \n",
       "\n",
       "   glyburide-metformin_No  glipizide-metformin_No  \\\n",
       "0                    True                    True   \n",
       "1                    True                    True   \n",
       "2                    True                    True   \n",
       "3                    True                    True   \n",
       "4                    True                    True   \n",
       "\n",
       "   glimepiride-pioglitazone_No  metformin-rosiglitazone_No  \\\n",
       "0                         True                        True   \n",
       "1                         True                        True   \n",
       "2                         True                        True   \n",
       "3                         True                        True   \n",
       "4                         True                        True   \n",
       "\n",
       "   metformin-pioglitazone_No  change_No  diabetesMed_Yes  readmitted  \n",
       "0                       True       True             True           0  \n",
       "1                       True      False             True           1  \n",
       "2                       True       True             True           1  \n",
       "3                       True       True             True           1  \n",
       "4                       True       True            False           0  \n",
       "\n",
       "[5 rows x 65 columns]"
      ]
     },
     "execution_count": 33,
     "metadata": {},
     "output_type": "execute_result"
    }
   ],
   "source": [
    "df.head()"
   ]
  },
  {
   "cell_type": "code",
   "execution_count": 35,
   "id": "c8743d18-5a9a-440a-bbdd-7600419914fb",
   "metadata": {},
   "outputs": [],
   "source": [
    "features = ['time_in_hospital', 'num_medications', 'num_lab_procedures', 'number_diagnoses',\n",
    "            'age_[70-80)', 'age_[60-70)', 'race_Caucasian', 'gender_Female']\n",
    "X = df[features]\n",
    "y = df['readmitted']"
   ]
  },
  {
   "cell_type": "code",
   "execution_count": 37,
   "id": "bb383207-9b3e-4c23-b5e5-24a808cf00b8",
   "metadata": {},
   "outputs": [
    {
     "name": "stdout",
     "output_type": "stream",
     "text": [
      "Model Accuracy: 0.56\n"
     ]
    }
   ],
   "source": [
    "from sklearn.model_selection import train_test_split\n",
    "from sklearn.linear_model import LogisticRegression\n",
    "from sklearn.metrics import accuracy_score\n",
    "\n",
    "# Split data into training and testing sets\n",
    "X_train, X_test, y_train, y_test = train_test_split(X, y, test_size=0.2, random_state=42)\n",
    "\n",
    "# Train the model\n",
    "model = LogisticRegression(max_iter=1000)\n",
    "model.fit(X_train, y_train)\n",
    "\n",
    "# Predict and evaluate\n",
    "y_pred = model.predict(X_test)\n",
    "accuracy = accuracy_score(y_test, y_pred)\n",
    "print(f\"Model Accuracy: {accuracy:.2f}\")"
   ]
  },
  {
   "cell_type": "code",
   "execution_count": null,
   "id": "28d70e5c-7518-495c-aaf1-7607108fc35e",
   "metadata": {},
   "outputs": [],
   "source": []
  }
 ],
 "metadata": {
  "kernelspec": {
   "display_name": "Python [conda env:base] *",
   "language": "python",
   "name": "conda-base-py"
  },
  "language_info": {
   "codemirror_mode": {
    "name": "ipython",
    "version": 3
   },
   "file_extension": ".py",
   "mimetype": "text/x-python",
   "name": "python",
   "nbconvert_exporter": "python",
   "pygments_lexer": "ipython3",
   "version": "3.12.7"
  }
 },
 "nbformat": 4,
 "nbformat_minor": 5
}
